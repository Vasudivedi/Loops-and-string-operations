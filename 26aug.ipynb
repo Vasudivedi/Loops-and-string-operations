{
 "cells": [
  {
   "cell_type": "code",
   "execution_count": 8,
   "metadata": {},
   "outputs": [
    {
     "name": "stdout",
     "output_type": "stream",
     "text": [
      "4 is greater than 2\n"
     ]
    }
   ],
   "source": [
    "# Greater or less than\n",
    "a = int(input(\"Enter any number\"))\n",
    "b = int(input(\"Enter any number\"))\n",
    "\n",
    "if a > b :\n",
    "    print(f'{a} is greater than 'f'{b}')\n",
    "else:\n",
    "    print(f'{b} is greater than 'f'{a}')\n"
   ]
  },
  {
   "cell_type": "code",
   "execution_count": 10,
   "metadata": {},
   "outputs": [
    {
     "name": "stdout",
     "output_type": "stream",
     "text": [
      "Your Grade is A\n"
     ]
    }
   ],
   "source": [
    "#Grade according to percentage\n",
    "a = int(input(\"Enter your percentage\"))\n",
    "\n",
    "if a >= 90 :\n",
    "    print(\"Your Grade is A\")\n",
    "elif a >= 80:\n",
    "    print(\"Your Grade is B\")\n",
    "elif a >= 70:\n",
    "    print(\"Your Grade is C\")\n",
    "elif a >= 95:\n",
    "    print(\"Your Grade is A+\")\n",
    "elif a >= 60:\n",
    "    print(\"Your Grade is D\")\n",
    "else:\n",
    "    print(\"Your Grade is below D\")\n",
    "\n",
    "\n",
    "        \n"
   ]
  },
  {
   "cell_type": "code",
   "execution_count": 12,
   "metadata": {},
   "outputs": [
    {
     "name": "stdout",
     "output_type": "stream",
     "text": [
      "You are eligible to donate blood\n",
      "You are eligible to donate blood\n",
      "Your weight is not healthy\n"
     ]
    }
   ],
   "source": [
    "#Blood donation\n",
    "a = int(input(\"Enter your age\"))\n",
    "b = int(input(\"Enter your haemoglobin content\"))\n",
    "c = int(input(\"Enter your weight\"))\n",
    "\n",
    "if (a >= 18) and (a <= 65):\n",
    "    print(\"You are eligible to donate blood\")\n",
    "    if b >= 12.5:\n",
    "        print(\"You are eligible to donate blood\")\n",
    "        if c >= 45:\n",
    "            print(\"You are eligible to donate blood\")\n",
    "        else:\n",
    "            print(\"Your weight is not healthy\")\n",
    "    else:\n",
    "        print(\"Your haemoglobin content is less\")\n",
    "else:\n",
    "    print('You are under age, so you are not eligible')                \n",
    "\n"
   ]
  },
  {
   "cell_type": "code",
   "execution_count": 13,
   "metadata": {},
   "outputs": [
    {
     "name": "stdout",
     "output_type": "stream",
     "text": [
      "apple\n",
      "banana\n",
      "mango\n"
     ]
    }
   ],
   "source": [
    "list1 = ('apple','banana','mango')\n",
    "\n",
    "for i in list1:\n",
    "    print(i)"
   ]
  },
  {
   "cell_type": "code",
   "execution_count": 18,
   "metadata": {},
   "outputs": [
    {
     "name": "stdout",
     "output_type": "stream",
     "text": [
      "Length of  apple is 5\n",
      "Length of  banana is 6\n",
      "Length of  mango is 5\n"
     ]
    }
   ],
   "source": [
    "list1 = ('apple','banana','mango')\n",
    "\n",
    "for i in list1:\n",
    "    a = len(i)\n",
    "    print('Length of  'f'{i}' ' is ' f'{a}')"
   ]
  },
  {
   "cell_type": "code",
   "execution_count": 21,
   "metadata": {},
   "outputs": [
    {
     "name": "stdout",
     "output_type": "stream",
     "text": [
      "apple\n",
      "mango\n"
     ]
    }
   ],
   "source": [
    "#Continue\n",
    "list1 = ('apple','banana','mango')\n",
    "\n",
    "for i in list1:\n",
    "    if i == 'banana':\n",
    "        continue\n",
    "    else:\n",
    "        print(i)    "
   ]
  },
  {
   "cell_type": "code",
   "execution_count": 22,
   "metadata": {},
   "outputs": [
    {
     "name": "stdout",
     "output_type": "stream",
     "text": [
      "apple\n"
     ]
    }
   ],
   "source": [
    "#break\n",
    "list1 = ('apple','banana','mango')\n",
    "\n",
    "for i in list1:\n",
    "    if i == 'banana':\n",
    "        break\n",
    "    else:\n",
    "        print(i)  "
   ]
  },
  {
   "cell_type": "code",
   "execution_count": 23,
   "metadata": {},
   "outputs": [
    {
     "name": "stdout",
     "output_type": "stream",
     "text": [
      "hello\n"
     ]
    }
   ],
   "source": [
    "#String Questions-\n",
    "# 1)\n",
    "a = 'hello'\n",
    "print(a)\n"
   ]
  },
  {
   "cell_type": "code",
   "execution_count": 24,
   "metadata": {},
   "outputs": [
    {
     "name": "stdout",
     "output_type": "stream",
     "text": [
      "hello\n"
     ]
    }
   ],
   "source": [
    "#2)\n",
    "a = 'hello'\n",
    "print(a)"
   ]
  },
  {
   "cell_type": "code",
   "execution_count": 25,
   "metadata": {},
   "outputs": [
    {
     "name": "stdout",
     "output_type": "stream",
     "text": [
      "Hi everyone!\n",
      "Welcome to Tops\n"
     ]
    }
   ],
   "source": [
    "#3)\n",
    "a = '''Hi everyone!\n",
    "Welcome to Tops'''\n",
    "\n",
    "print(a)"
   ]
  },
  {
   "cell_type": "code",
   "execution_count": 26,
   "metadata": {},
   "outputs": [
    {
     "name": "stdout",
     "output_type": "stream",
     "text": [
      "h\n"
     ]
    }
   ],
   "source": [
    "#4)\n",
    "a = 'hello'\n",
    "b = a[0]\n",
    "print(b)"
   ]
  },
  {
   "cell_type": "code",
   "execution_count": 27,
   "metadata": {},
   "outputs": [
    {
     "name": "stdout",
     "output_type": "stream",
     "text": [
      "llo\n"
     ]
    }
   ],
   "source": [
    "#5)\n",
    "a = 'hello'\n",
    "b = a[2:]\n",
    "print(b)"
   ]
  },
  {
   "cell_type": "code",
   "execution_count": 31,
   "metadata": {},
   "outputs": [
    {
     "name": "stdout",
     "output_type": "stream",
     "text": [
      "hello\n"
     ]
    }
   ],
   "source": [
    "#6)\n",
    "a = 'hello world'\n",
    "b = a[0:5]\n",
    "print(b)"
   ]
  },
  {
   "cell_type": "code",
   "execution_count": 33,
   "metadata": {},
   "outputs": [
    {
     "name": "stdout",
     "output_type": "stream",
     "text": [
      "ello\n"
     ]
    }
   ],
   "source": [
    "#7)\n",
    "a = 'hello world'\n",
    "b = a[1:5]\n",
    "print(b)"
   ]
  },
  {
   "cell_type": "code",
   "execution_count": 34,
   "metadata": {},
   "outputs": [
    {
     "name": "stdout",
     "output_type": "stream",
     "text": [
      "dlrow olleh\n"
     ]
    }
   ],
   "source": [
    "#8)\n",
    "a = 'hello world'\n",
    "b = a[::-1]\n",
    "print(b)"
   ]
  },
  {
   "cell_type": "code",
   "execution_count": 36,
   "metadata": {},
   "outputs": [
    {
     "name": "stdout",
     "output_type": "stream",
     "text": [
      "el ol\n"
     ]
    }
   ],
   "source": [
    "#9)\n",
    "#7)\n",
    "a = 'hello world'\n",
    "b = a[1::2]\n",
    "print(b)"
   ]
  },
  {
   "cell_type": "code",
   "execution_count": 2,
   "metadata": {},
   "outputs": [
    {
     "name": "stdout",
     "output_type": "stream",
     "text": [
      "['he', 'ia', 'an', 'apple']\n"
     ]
    }
   ],
   "source": [
    "#covert a string into list\n",
    "s = 'he ia an apple'\n",
    "a = s.split()\n",
    "print(a)"
   ]
  },
  {
   "cell_type": "code",
   "execution_count": 10,
   "metadata": {},
   "outputs": [
    {
     "name": "stdout",
     "output_type": "stream",
     "text": [
      "tOpS TeChNoLoGiEs"
     ]
    }
   ],
   "source": [
    "#Alternate alphabet upper of string \n",
    "s = 'tops technologies'\n",
    "d = ''\n",
    "for i in range(0,len(s)):\n",
    "    if i%2 == 0:\n",
    "        d = s[i].lower()\n",
    "    \n",
    "    else:\n",
    "        d = s[i].upper()\n",
    "    print(d, end = \"\")        "
   ]
  },
  {
   "cell_type": "code",
   "execution_count": null,
   "metadata": {},
   "outputs": [],
   "source": []
  },
  {
   "cell_type": "code",
   "execution_count": 4,
   "metadata": {},
   "outputs": [
    {
     "name": "stdout",
     "output_type": "stream",
     "text": [
      "24\n"
     ]
    }
   ],
   "source": [
    "x = 4\n",
    "\n",
    "for i in range(1 , 4):\n",
    "    x *= i\n",
    "print(x)"
   ]
  },
  {
   "cell_type": "code",
   "execution_count": 9,
   "metadata": {},
   "outputs": [],
   "source": [
    "i = 1\n",
    "x = 45\n",
    "\n",
    "while i > x:\n",
    "    if (x%i)!=0:\n",
    "        print('prime')\n",
    "        i += i"
   ]
  },
  {
   "cell_type": "code",
   "execution_count": null,
   "metadata": {},
   "outputs": [],
   "source": [
    "i = 1\n",
    "x = 45\n",
    "\n",
    "while i > x:\n",
    "    if (x%i)!=0:\n",
    "        print('prime')\n",
    "        i += i"
   ]
  },
  {
   "cell_type": "code",
   "execution_count": null,
   "metadata": {},
   "outputs": [],
   "source": []
  }
 ],
 "metadata": {
  "kernelspec": {
   "display_name": "Python 3.10.2 64-bit",
   "language": "python",
   "name": "python3"
  },
  "language_info": {
   "codemirror_mode": {
    "name": "ipython",
    "version": 3
   },
   "file_extension": ".py",
   "mimetype": "text/x-python",
   "name": "python",
   "nbconvert_exporter": "python",
   "pygments_lexer": "ipython3",
   "version": "3.10.2"
  },
  "orig_nbformat": 4,
  "vscode": {
   "interpreter": {
    "hash": "ecc5e11558ec0d1e48c447758d218191452a4c327c8a80e0929887066f110090"
   }
  }
 },
 "nbformat": 4,
 "nbformat_minor": 2
}
